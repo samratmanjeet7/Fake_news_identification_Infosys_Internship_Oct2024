{
 "cells": [
  {
   "cell_type": "code",
   "execution_count": 2,
   "id": "a99b60cb-71cb-489e-a0b4-5acc156f7a9a",
   "metadata": {},
   "outputs": [],
   "source": [
    "import pandas as pd\n",
    "\n",
    "# Load the dataset\n",
    "file_path = \"../data/facebook-fact-check.csv\"\n"
   ]
  },
  {
   "cell_type": "code",
   "execution_count": 3,
   "id": "3593bd8d-a914-4b0a-9b1f-65ed237bac7b",
   "metadata": {},
   "outputs": [],
   "source": [
    "file_path = \"C:/Users/Manjeet/OneDrive/Desktop/facebook-fact-check.csv\""
   ]
  },
  {
   "cell_type": "code",
   "execution_count": 4,
   "id": "566d1ea3-3c33-433f-be0f-1b28c9813e41",
   "metadata": {},
   "outputs": [
    {
     "name": "stdout",
     "output_type": "stream",
     "text": [
      "File not found: C:/Users/Manjeet/OneDrive/Desktop/data/facebook-fact-check.csv\n"
     ]
    }
   ],
   "source": [
    "import os\n",
    "\n",
    "file_path = \"C:/Users/Manjeet/OneDrive/Desktop/data/facebook-fact-check.csv\"\n",
    "\n",
    "if os.path.isfile(file_path):\n",
    "    print(\"File found. Proceeding to load...\")\n",
    "    df = pd.read_csv(file_path)\n",
    "    print(df.head())\n",
    "else:\n",
    "    print(f\"File not found: {file_path}\")\n",
    "\n"
   ]
  },
  {
   "cell_type": "code",
   "execution_count": 5,
   "id": "b531546e-dec7-45e0-8829-7e09aba409de",
   "metadata": {},
   "outputs": [],
   "source": [
    "data = pd.read_csv(\"C:/Users/Manjeet/OneDrive/Desktop/Fake_news_identification_Infosys_Internship_Oct2024/data/facebook-fact-check.csv.csv\")"
   ]
  },
  {
   "cell_type": "code",
   "execution_count": 6,
   "id": "847f6a9c-1095-4b09-9877-c58ad6c6d71c",
   "metadata": {},
   "outputs": [
    {
     "name": "stdout",
     "output_type": "stream",
     "text": [
      "False\n"
     ]
    }
   ],
   "source": [
    "import os\n",
    "print(os.path.exists(\"data/facebook-fact-check.csv.csv\"))  # Should return True if the file path is correct\n"
   ]
  },
  {
   "cell_type": "code",
   "execution_count": 7,
   "id": "c8e67b80-0673-4d6a-86c8-72ebc2184bcb",
   "metadata": {},
   "outputs": [
    {
     "name": "stdout",
     "output_type": "stream",
     "text": [
      "C:\\Users\\Manjeet\\OneDrive\\Desktop\\Fake_news_identification_Infosys_Internship_Oct2024\\notebooks\n"
     ]
    }
   ],
   "source": [
    "import os\n",
    "print(os.getcwd())\n"
   ]
  },
  {
   "cell_type": "code",
   "execution_count": 8,
   "id": "ed887e0c-4ebc-40bd-a8ec-c8b92153e8f6",
   "metadata": {},
   "outputs": [
    {
     "data": {
      "text/plain": [
       "CompletedProcess(args=['python', 'load_data.py'], returncode=2)"
      ]
     },
     "execution_count": 8,
     "metadata": {},
     "output_type": "execute_result"
    }
   ],
   "source": [
    "import subprocess\n",
    "subprocess.run([\"python\", \"load_data.py\"])"
   ]
  },
  {
   "cell_type": "code",
   "execution_count": 9,
   "id": "78ac7433-4f15-4905-9b5b-6fdc36bf6c3d",
   "metadata": {},
   "outputs": [
    {
     "name": "stderr",
     "output_type": "stream",
     "text": [
      "python: can't open file 'C:\\\\Users\\\\Manjeet\\\\OneDrive\\\\Desktop\\\\Fake_news_identification_Infosys_Internship_Oct2024\\\\notebooks\\\\notebooks\\\\load_data.py': [Errno 2] No such file or directory\n"
     ]
    }
   ],
   "source": [
    "!python notebooks/load_data.py"
   ]
  },
  {
   "cell_type": "code",
   "execution_count": 10,
   "id": "3d921822-9f71-4a16-9d70-b3760ea28b9a",
   "metadata": {},
   "outputs": [
    {
     "name": "stdout",
     "output_type": "stream",
     "text": [
      " Volume in drive C is OS\n",
      " Volume Serial Number is 6A37-6DD6\n",
      "\n",
      " Directory of C:\\Users\\Manjeet\\OneDrive\\Desktop\\Fake_news_identification_Infosys_Internship_Oct2024\\notebooks\n",
      "\n"
     ]
    },
    {
     "name": "stderr",
     "output_type": "stream",
     "text": [
      "File Not Found\n"
     ]
    }
   ],
   "source": [
    "!dir notebooks"
   ]
  },
  {
   "cell_type": "code",
   "execution_count": 11,
   "id": "f7214154-4bb5-4c0c-bbc1-8f086c76bb2c",
   "metadata": {},
   "outputs": [
    {
     "name": "stdout",
     "output_type": "stream",
     "text": [
      " Volume in drive C is OS\n",
      " Volume Serial Number is 6A37-6DD6\n",
      "\n",
      " Directory of C:\\Users\\Manjeet\\OneDrive\\Desktop\\Fake_news_identification_Infosys_Internship_Oct2024\n",
      "\n",
      "01-11-2024  23:11    <DIR>          .\n",
      "01-11-2024  17:10    <DIR>          ..\n",
      "01-11-2024  17:11    <DIR>          .dist\n",
      "01-11-2024  18:11    <DIR>          data\n",
      "01-11-2024  17:24    <DIR>          docs\n",
      "01-11-2024  17:17    <DIR>          fake_news_env\n",
      "01-11-2024  17:10             1,092 LICENSE\n",
      "01-11-2024  17:24    <DIR>          models\n",
      "01-11-2024  23:33    <DIR>          notebooks\n",
      "01-11-2024  23:11           406,404 preprocessed_data.csv\n",
      "01-11-2024  17:10               941 README.md\n",
      "01-11-2024  17:24    <DIR>          src\n",
      "               3 File(s)        408,437 bytes\n",
      "               9 Dir(s)  39,767,633,920 bytes free\n"
     ]
    }
   ],
   "source": [
    "!dir \"C:/Users/Manjeet/OneDrive/Desktop/Fake_news_identification_Infosys_Internship_Oct2024\""
   ]
  },
  {
   "cell_type": "code",
   "execution_count": 12,
   "id": "065e0c21-8348-430c-9658-6aa2f3db7795",
   "metadata": {},
   "outputs": [
    {
     "name": "stdout",
     "output_type": "stream",
     "text": [
      "<class 'pandas.core.frame.DataFrame'>\n",
      "RangeIndex: 2282 entries, 0 to 2281\n",
      "Data columns (total 12 columns):\n",
      " #   Column          Non-Null Count  Dtype  \n",
      "---  ------          --------------  -----  \n",
      " 0   account_id      2282 non-null   int64  \n",
      " 1   post_id         2282 non-null   int64  \n",
      " 2   Category        2282 non-null   object \n",
      " 3   Page            2282 non-null   object \n",
      " 4   Post URL        2282 non-null   object \n",
      " 5   Date Published  2282 non-null   object \n",
      " 6   Post Type       2282 non-null   object \n",
      " 7   Rating          2282 non-null   object \n",
      " 8   Debate          298 non-null    object \n",
      " 9   share_count     2212 non-null   float64\n",
      " 10  reaction_count  2280 non-null   float64\n",
      " 11  comment_count   2280 non-null   float64\n",
      "dtypes: float64(3), int64(2), object(7)\n",
      "memory usage: 214.1+ KB\n",
      "None\n",
      "         account_id       post_id   share_count  reaction_count  comment_count\n",
      "count  2.282000e+03  2.282000e+03  2.212000e+03     2280.000000    2280.000000\n",
      "mean   1.867111e+14  3.299586e+15  4.044816e+03     5364.284649     516.102193\n",
      "std    1.393826e+14  3.808724e+15  2.983192e+04    19126.544561    3569.355445\n",
      "min    6.231759e+10  5.510967e+14  1.000000e+00        2.000000       0.000000\n",
      "25%    1.145179e+14  1.247441e+15  2.400000e+01      149.000000      37.000000\n",
      "50%    1.840966e+14  1.290536e+15  9.600000e+01      545.500000     131.500000\n",
      "75%    3.469371e+14  1.540752e+15  7.390000e+02     2416.750000     390.250000\n",
      "max    4.401065e+14  1.015386e+16  1.088995e+06   456458.000000  159047.000000\n"
     ]
    }
   ],
   "source": [
    "print(data.info())\n",
    "print(data.describe())\n"
   ]
  },
  {
   "cell_type": "code",
   "execution_count": 13,
   "id": "e18e9752-81f1-4518-b7f1-5866b1fa7d09",
   "metadata": {},
   "outputs": [
    {
     "name": "stdout",
     "output_type": "stream",
     "text": [
      "        account_id           post_id    Category               Page  \\\n",
      "0  184096565021911  1035057923259100  mainstream  ABC News Politics   \n",
      "1  184096565021911  1035269309904628  mainstream  ABC News Politics   \n",
      "2  184096565021911  1035305953234297  mainstream  ABC News Politics   \n",
      "3  184096565021911  1035322636565962  mainstream  ABC News Politics   \n",
      "4  184096565021911  1035352946562931  mainstream  ABC News Politics   \n",
      "\n",
      "                                            Post URL Date Published Post Type  \\\n",
      "0  https://www.facebook.com/ABCNewsPolitics/posts...     2016-09-19     video   \n",
      "1  https://www.facebook.com/ABCNewsPolitics/posts...     2016-09-19      link   \n",
      "2  https://www.facebook.com/ABCNewsPolitics/posts...     2016-09-19      link   \n",
      "3  https://www.facebook.com/ABCNewsPolitics/posts...     2016-09-19      link   \n",
      "4  https://www.facebook.com/ABCNewsPolitics/posts...     2016-09-19     video   \n",
      "\n",
      "               Rating Debate  share_count  reaction_count  comment_count  \n",
      "0  no factual content    NaN          NaN           146.0           15.0  \n",
      "1         mostly true    NaN          1.0            33.0           34.0  \n",
      "2         mostly true    NaN         34.0            63.0           27.0  \n",
      "3         mostly true    NaN         35.0           170.0           86.0  \n",
      "4         mostly true    NaN        568.0          3188.0         2815.0  \n"
     ]
    }
   ],
   "source": [
    "print(data.head())"
   ]
  },
  {
   "cell_type": "code",
   "execution_count": 14,
   "id": "cd91177a-f323-4046-836f-890248999e3b",
   "metadata": {},
   "outputs": [
    {
     "name": "stdout",
     "output_type": "stream",
     "text": [
      "account_id           0\n",
      "post_id              0\n",
      "Category             0\n",
      "Page                 0\n",
      "Post URL             0\n",
      "Date Published       0\n",
      "Post Type            0\n",
      "Rating               0\n",
      "Debate            1984\n",
      "share_count         70\n",
      "reaction_count       2\n",
      "comment_count        2\n",
      "dtype: int64\n"
     ]
    }
   ],
   "source": [
    "print(data.isnull().sum())"
   ]
  },
  {
   "cell_type": "code",
   "execution_count": 15,
   "id": "19ec7022-6bfe-485b-a5a5-70624a75378f",
   "metadata": {},
   "outputs": [
    {
     "name": "stdout",
     "output_type": "stream",
     "text": [
      "Requirement already satisfied: seaborn in c:\\users\\manjeet\\appdata\\local\\programs\\python\\python310\\lib\\site-packages (0.13.2)\n",
      "Requirement already satisfied: numpy!=1.24.0,>=1.20 in c:\\users\\manjeet\\appdata\\local\\programs\\python\\python310\\lib\\site-packages (from seaborn) (1.26.4)\n",
      "Requirement already satisfied: pandas>=1.2 in c:\\users\\manjeet\\appdata\\local\\programs\\python\\python310\\lib\\site-packages (from seaborn) (2.2.2)\n",
      "Requirement already satisfied: matplotlib!=3.6.1,>=3.4 in c:\\users\\manjeet\\appdata\\local\\programs\\python\\python310\\lib\\site-packages (from seaborn) (3.9.0)\n",
      "Requirement already satisfied: contourpy>=1.0.1 in c:\\users\\manjeet\\appdata\\local\\programs\\python\\python310\\lib\\site-packages (from matplotlib!=3.6.1,>=3.4->seaborn) (1.2.1)\n",
      "Requirement already satisfied: cycler>=0.10 in c:\\users\\manjeet\\appdata\\local\\programs\\python\\python310\\lib\\site-packages (from matplotlib!=3.6.1,>=3.4->seaborn) (0.12.1)\n",
      "Requirement already satisfied: fonttools>=4.22.0 in c:\\users\\manjeet\\appdata\\local\\programs\\python\\python310\\lib\\site-packages (from matplotlib!=3.6.1,>=3.4->seaborn) (4.53.0)\n",
      "Requirement already satisfied: kiwisolver>=1.3.1 in c:\\users\\manjeet\\appdata\\local\\programs\\python\\python310\\lib\\site-packages (from matplotlib!=3.6.1,>=3.4->seaborn) (1.4.5)\n",
      "Requirement already satisfied: packaging>=20.0 in c:\\users\\manjeet\\appdata\\local\\programs\\python\\python310\\lib\\site-packages (from matplotlib!=3.6.1,>=3.4->seaborn) (23.2)\n",
      "Requirement already satisfied: pillow>=8 in c:\\users\\manjeet\\appdata\\local\\programs\\python\\python310\\lib\\site-packages (from matplotlib!=3.6.1,>=3.4->seaborn) (10.3.0)\n",
      "Requirement already satisfied: pyparsing>=2.3.1 in c:\\users\\manjeet\\appdata\\local\\programs\\python\\python310\\lib\\site-packages (from matplotlib!=3.6.1,>=3.4->seaborn) (3.1.2)\n",
      "Requirement already satisfied: python-dateutil>=2.7 in c:\\users\\manjeet\\appdata\\local\\programs\\python\\python310\\lib\\site-packages (from matplotlib!=3.6.1,>=3.4->seaborn) (2.9.0.post0)\n",
      "Requirement already satisfied: pytz>=2020.1 in c:\\users\\manjeet\\appdata\\local\\programs\\python\\python310\\lib\\site-packages (from pandas>=1.2->seaborn) (2024.1)\n",
      "Requirement already satisfied: tzdata>=2022.7 in c:\\users\\manjeet\\appdata\\local\\programs\\python\\python310\\lib\\site-packages (from pandas>=1.2->seaborn) (2024.1)\n",
      "Requirement already satisfied: six>=1.5 in c:\\users\\manjeet\\appdata\\local\\programs\\python\\python310\\lib\\site-packages (from python-dateutil>=2.7->matplotlib!=3.6.1,>=3.4->seaborn) (1.16.0)\n",
      "Note: you may need to restart the kernel to use updated packages.\n"
     ]
    }
   ],
   "source": [
    "pip install seaborn"
   ]
  },
  {
   "cell_type": "code",
   "execution_count": 16,
   "id": "a71bae09-4520-4f64-8947-4bee7f30ecad",
   "metadata": {},
   "outputs": [],
   "source": [
    "import seaborn as sns"
   ]
  },
  {
   "cell_type": "code",
   "execution_count": 17,
   "id": "5f6e01e9-6ddd-49d5-9a34-fc5c26fc50aa",
   "metadata": {},
   "outputs": [
    {
     "name": "stdout",
     "output_type": "stream",
     "text": [
      "Index(['account_id', 'post_id', 'Category', 'Page', 'Post URL',\n",
      "       'Date Published', 'Post Type', 'Rating', 'Debate', 'share_count',\n",
      "       'reaction_count', 'comment_count'],\n",
      "      dtype='object')\n"
     ]
    }
   ],
   "source": [
    "print(data.columns)"
   ]
  },
  {
   "cell_type": "code",
   "execution_count": 18,
   "id": "b78adca0-214d-4a64-a9c4-495d71b360c6",
   "metadata": {},
   "outputs": [
    {
     "name": "stdout",
     "output_type": "stream",
     "text": [
      "Index(['account_id', 'post_id', 'Category', 'Page', 'Post URL',\n",
      "       'Date Published', 'Post Type', 'Rating', 'Debate', 'share_count',\n",
      "       'reaction_count', 'comment_count'],\n",
      "      dtype='object')\n"
     ]
    }
   ],
   "source": [
    "# Check the columns in the DataFrame\n",
    "print(data.columns)"
   ]
  },
  {
   "cell_type": "code",
   "execution_count": 19,
   "id": "77174172-56e0-4e35-9616-7b3bdcd7fbe1",
   "metadata": {},
   "outputs": [
    {
     "name": "stdout",
     "output_type": "stream",
     "text": [
      "        account_id           post_id    Category               Page  \\\n",
      "0  184096565021911  1035057923259100  mainstream  ABC News Politics   \n",
      "1  184096565021911  1035269309904628  mainstream  ABC News Politics   \n",
      "2  184096565021911  1035305953234297  mainstream  ABC News Politics   \n",
      "3  184096565021911  1035322636565962  mainstream  ABC News Politics   \n",
      "4  184096565021911  1035352946562931  mainstream  ABC News Politics   \n",
      "\n",
      "                                            Post URL Date Published Post Type  \\\n",
      "0  https://www.facebook.com/ABCNewsPolitics/posts...     2016-09-19     video   \n",
      "1  https://www.facebook.com/ABCNewsPolitics/posts...     2016-09-19      link   \n",
      "2  https://www.facebook.com/ABCNewsPolitics/posts...     2016-09-19      link   \n",
      "3  https://www.facebook.com/ABCNewsPolitics/posts...     2016-09-19      link   \n",
      "4  https://www.facebook.com/ABCNewsPolitics/posts...     2016-09-19     video   \n",
      "\n",
      "               Rating Debate  share_count  reaction_count  comment_count  \n",
      "0  no factual content    NaN          NaN           146.0           15.0  \n",
      "1         mostly true    NaN          1.0            33.0           34.0  \n",
      "2         mostly true    NaN         34.0            63.0           27.0  \n",
      "3         mostly true    NaN         35.0           170.0           86.0  \n",
      "4         mostly true    NaN        568.0          3188.0         2815.0  \n"
     ]
    }
   ],
   "source": [
    "print(data.head())"
   ]
  },
  {
   "cell_type": "code",
   "execution_count": 20,
   "id": "ff8e05ee-3f95-4ec8-b744-0db645d33ad2",
   "metadata": {},
   "outputs": [
    {
     "data": {
      "image/png": "[encoded data removed]",
      "text/plain": [
       "<Figure size 640x480 with 1 Axes>"
      ]
     },
     "metadata": {},
     "output_type": "display_data"
    }
   ],
   "source": [
    "import seaborn as sns\n",
    "import matplotlib.pyplot as plt\n",
    "\n",
    "sns.countplot(x='Category', data=data)\n",
    "plt.title(\"Class Distribution by Category\")\n",
    "plt.xlabel(\"Category\")\n",
    "plt.ylabel(\"Frequency\")\n",
    "plt.xticks(rotation=45)  # Rotate x-axis labels for better readability if needed\n",
    "plt.show()"
   ]
  },
  {
   "cell_type": "code",
   "execution_count": 21,
   "id": "4f30d7e5-ed5a-405b-9951-2c218b2e5f31",
   "metadata": {},
   "outputs": [
    {
     "data": {
      "image/png": "[encoded data removed]",
      "text/plain": [
       "<Figure size 640x480 with 1 Axes>"
      ]
     },
     "metadata": {},
     "output_type": "display_data"
    }
   ],
   "source": [
    "sns.countplot(x='Rating', data=data)\n",
    "plt.title(\"Class Distribution by Rating\")\n",
    "plt.xlabel(\"Rating\")\n",
    "plt.ylabel(\"Frequency\")\n",
    "plt.xticks(rotation=45)  # Rotate x-axis labels for better readability if needed\n",
    "plt.show()\n"
   ]
  },
  {
   "cell_type": "code",
   "execution_count": 22,
   "id": "8658cd22-19bc-484e-90e4-2defae5618aa",
   "metadata": {},
   "outputs": [
    {
     "name": "stdout",
     "output_type": "stream",
     "text": [
      "Requirement already satisfied: pandas in c:\\users\\manjeet\\appdata\\local\\programs\\python\\python310\\lib\\site-packages (2.2.2)\n",
      "Requirement already satisfied: nltk in c:\\users\\manjeet\\appdata\\local\\programs\\python\\python310\\lib\\site-packages (3.9.1)\n",
      "Requirement already satisfied: numpy>=1.22.4 in c:\\users\\manjeet\\appdata\\local\\programs\\python\\python310\\lib\\site-packages (from pandas) (1.26.4)\n",
      "Requirement already satisfied: python-dateutil>=2.8.2 in c:\\users\\manjeet\\appdata\\local\\programs\\python\\python310\\lib\\site-packages (from pandas) (2.9.0.post0)\n",
      "Requirement already satisfied: pytz>=2020.1 in c:\\users\\manjeet\\appdata\\local\\programs\\python\\python310\\lib\\site-packages (from pandas) (2024.1)\n",
      "Requirement already satisfied: tzdata>=2022.7 in c:\\users\\manjeet\\appdata\\local\\programs\\python\\python310\\lib\\site-packages (from pandas) (2024.1)\n",
      "Requirement already satisfied: click in c:\\users\\manjeet\\appdata\\local\\programs\\python\\python310\\lib\\site-packages (from nltk) (8.1.7)\n",
      "Requirement already satisfied: joblib in c:\\users\\manjeet\\appdata\\local\\programs\\python\\python310\\lib\\site-packages (from nltk) (1.4.2)\n",
      "Requirement already satisfied: regex>=2021.8.3 in c:\\users\\manjeet\\appdata\\local\\programs\\python\\python310\\lib\\site-packages (from nltk) (2024.5.15)\n",
      "Requirement already satisfied: tqdm in c:\\users\\manjeet\\appdata\\local\\programs\\python\\python310\\lib\\site-packages (from nltk) (4.66.4)\n",
      "Requirement already satisfied: six>=1.5 in c:\\users\\manjeet\\appdata\\local\\programs\\python\\python310\\lib\\site-packages (from python-dateutil>=2.8.2->pandas) (1.16.0)\n",
      "Requirement already satisfied: colorama in c:\\users\\manjeet\\appdata\\local\\programs\\python\\python310\\lib\\site-packages (from click->nltk) (0.4.6)\n",
      "Note: you may need to restart the kernel to use updated packages.\n"
     ]
    }
   ],
   "source": [
    "pip install pandas nltk"
   ]
  },
  {
   "cell_type": "code",
   "execution_count": 23,
   "id": "52a9ef71-99b2-4cee-a5b2-7c3100688587",
   "metadata": {},
   "outputs": [
    {
     "name": "stderr",
     "output_type": "stream",
     "text": [
      "[nltk_data] Downloading package stopwords to\n",
      "[nltk_data]     C:\\Users\\Manjeet\\AppData\\Roaming\\nltk_data...\n",
      "[nltk_data]   Package stopwords is already up-to-date!\n"
     ]
    },
    {
     "data": {
      "text/plain": [
       "True"
      ]
     },
     "execution_count": 23,
     "metadata": {},
     "output_type": "execute_result"
    }
   ],
   "source": [
    "import pandas as pd\n",
    "import re\n",
    "import nltk\n",
    "from nltk.corpus import stopwords\n",
    "from nltk.stem import PorterStemmer  # or use WordNetLemmatizer for lemmatization\n",
    "\n",
    "# Download NLTK resources (run once)\n",
    "nltk.download('stopwords')\n"
   ]
  },
  {
   "cell_type": "code",
   "execution_count": 24,
   "id": "f0479a6f-bf0a-488b-a2fb-b2625ce4c9fe",
   "metadata": {},
   "outputs": [
    {
     "data": {
      "text/plain": [
       "'data = pd.read_csv(\"C:/Users/Manjeet/OneDrive/Desktop/Fake_news_identification_Infosys_Internship_Oct2024/data/facebook-fact-check.csv.csv\")'"
      ]
     },
     "execution_count": 24,
     "metadata": {},
     "output_type": "execute_result"
    }
   ],
   "source": [
    "('data = pd.read_csv(\"C:/Users/Manjeet/OneDrive/Desktop/Fake_news_identification_Infosys_Internship_Oct2024/data/facebook-fact-check.csv.csv\")')\n"
   ]
  },
  {
   "cell_type": "code",
   "execution_count": 25,
   "id": "689e8ba4-0448-4b6e-afae-3a3e84aa6745",
   "metadata": {},
   "outputs": [],
   "source": [
    "def preprocess_function(text):\n",
    "    # Lowercase the text\n",
    "    text = text.lower()\n",
    "    \n",
    "    # Remove special characters and numbers\n",
    "    text = re.sub(r'[^a-zA-Z\\s]', '', text)\n",
    "    \n",
    "    # Tokenize the text\n",
    "    words = text.split()\n",
    "    \n",
    "    # Remove stop words\n",
    "    stop_words = set(stopwords.words('english'))\n",
    "    words = [word for word in words if word not in stop_words]\n",
    "    \n",
    "    # Stemming\n",
    "    stemmer = PorterStemmer()\n",
    "    words = [stemmer.stem(word) for word in words]\n",
    "    \n",
    "    # Join the words back into a single string\n",
    "    return ' '.join(words)\n"
   ]
  },
  {
   "cell_type": "code",
   "execution_count": 26,
   "id": "39afd886-b28d-47d9-86de-07d5cd5f3c38",
   "metadata": {},
   "outputs": [],
   "source": [
    "data['processed_text'] = data['Page'].apply(preprocess_function)"
   ]
  },
  {
   "cell_type": "code",
   "execution_count": 27,
   "id": "9e2efffd-84d6-429e-a38e-60e848b15325",
   "metadata": {},
   "outputs": [],
   "source": [
    "# Assuming you want to preprocess the 'Page' column\n",
    "data['processed_text'] = data['Page'].apply(preprocess_function)"
   ]
  },
  {
   "cell_type": "code",
   "execution_count": 28,
   "id": "76fc072c-048c-4037-873d-0f2c197ab50c",
   "metadata": {},
   "outputs": [
    {
     "name": "stdout",
     "output_type": "stream",
     "text": [
      "                Page  processed_text\n",
      "0  ABC News Politics  abc news polit\n",
      "1  ABC News Politics  abc news polit\n",
      "2  ABC News Politics  abc news polit\n",
      "3  ABC News Politics  abc news polit\n",
      "4  ABC News Politics  abc news polit\n"
     ]
    }
   ],
   "source": [
    "print(data[['Page', 'processed_text']].head())"
   ]
  },
  {
   "cell_type": "code",
   "execution_count": 29,
   "id": "e5f1ab00-323f-44db-bb6d-9157fc5090b2",
   "metadata": {},
   "outputs": [],
   "source": [
    "data.to_csv('preprocessed_data.csv', index=False)"
   ]
  },
  {
   "cell_type": "code",
   "execution_count": null,
   "id": "2be51c53-90d6-46ea-94a3-611f7837c83b",
   "metadata": {},
   "outputs": [],
   "source": []
  }
 ],
 "metadata": {
  "kernelspec": {
   "display_name": "Python 3 (ipykernel)",
   "language": "python",
   "name": "python3"
  },
  "language_info": {
   "codemirror_mode": {
    "name": "ipython",
    "version": 3
   },
   "file_extension": ".py",
   "mimetype": "text/x-python",
   "name": "python",
   "nbconvert_exporter": "python",
   "pygments_lexer": "ipython3",
   "version": "3.10.4"
  }
 },
 "nbformat": 4,
 "nbformat_minor": 5
}
